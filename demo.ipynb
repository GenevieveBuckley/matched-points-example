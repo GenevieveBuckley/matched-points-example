{
 "cells": [
  {
   "cell_type": "markdown",
   "metadata": {},
   "source": [
    "# Matched points demo"
   ]
  },
  {
   "cell_type": "code",
   "execution_count": null,
   "metadata": {},
   "outputs": [],
   "source": [
    "%gui qt"
   ]
  },
  {
   "cell_type": "code",
   "execution_count": null,
   "metadata": {},
   "outputs": [],
   "source": [
    "from pathlib import Path\n",
    "\n",
    "import napari\n",
    "import numpy as np\n",
    "from skimage import io, measure\n",
    "from skimage.transform import AffineTransform"
   ]
  },
  {
   "cell_type": "code",
   "execution_count": null,
   "metadata": {},
   "outputs": [],
   "source": [
    "# Data from https://github.com/DeMarcoLab/correlateim/tree/master/data\n",
    "sudoku = io.imread('sudoku.tif')\n",
    "warped_sudoku = io.imread('sudoku_warped.tif')"
   ]
  },
  {
   "cell_type": "code",
   "execution_count": null,
   "metadata": {},
   "outputs": [],
   "source": [
    "viewer = napari.Viewer()\n",
    "viewer.add_image(sudoku)\n",
    "viewer.add_image(warped_sudoku)"
   ]
  },
  {
   "cell_type": "code",
   "execution_count": null,
   "metadata": {},
   "outputs": [],
   "source": [
    "# Coordinates from control points selected earlier by hand\n",
    "\n",
    "sudoku_points = np.array([\n",
    "    [ 91.02150026,  73.5625596 ],\n",
    "    [ 73.07077505, 489.42102706],\n",
    "    [521.83890541, 517.84300865],\n",
    "    [221.16425807, 208.19299871],\n",
    "    [364.77005978, 354.79058796]])\n",
    "\n",
    "warped_sudoku_points = np.array([\n",
    "    [ 83.54203143,  70.57077206],\n",
    "    [143.37778214, 440.05653272],\n",
    "    [541.28552439, 384.70846331],\n",
    "    [372.24952862, 268.02874942],\n",
    "    [221.16425807, 161.8202919 ]])"
   ]
  },
  {
   "cell_type": "code",
   "execution_count": null,
   "metadata": {},
   "outputs": [],
   "source": [
    "viewer.add_points(sudoku_points)\n",
    "viewer.add_points(warped_sudoku_points, face_color=\"red\")"
   ]
  },
  {
   "cell_type": "code",
   "execution_count": null,
   "metadata": {},
   "outputs": [],
   "source": [
    "# Following example from here: https://scikit-image.org/docs/dev/auto_examples/transform/plot_matching.html\n",
    "src = warped_sudoku_points\n",
    "dst = sudoku_points\n",
    "model_robust, inliers = measure.ransac((src, dst), AffineTransform, min_samples=3, residual_threshold=2, max_trials=100)\n",
    "\n",
    "# RANSAC results\n",
    "scale = (model_robust.scale[0], model_robust.scale[1])\n",
    "translate = (model_robust.translation[0], model_robust.translation[1])\n",
    "rotate = -np.rad2deg(model_robust.rotation)\n",
    "shear = [model_robust.shear]\n",
    "\n",
    "print(\"RANSAC results:\")\n",
    "print(f\"Scale: {scale})\")\n",
    "print(f\"Translation: {translate}\")\n",
    "print(f\"Rotation (degrees): {rotate}\")\n",
    "print(f\"Shear: {shear}\")"
   ]
  },
  {
   "cell_type": "code",
   "execution_count": null,
   "metadata": {},
   "outputs": [],
   "source": [
    "# Let's unwarp the image\n",
    "\n",
    "viewer.add_image(warped_sudoku, name=\"result\", scale=scale, translate=translate, rotate=rotate, shear=shear)"
   ]
  },
  {
   "cell_type": "code",
   "execution_count": null,
   "metadata": {},
   "outputs": [],
   "source": []
  }
 ],
 "metadata": {
  "kernelspec": {
   "display_name": "Python 3",
   "language": "python",
   "name": "python3"
  },
  "language_info": {
   "codemirror_mode": {
    "name": "ipython",
    "version": 3
   },
   "file_extension": ".py",
   "mimetype": "text/x-python",
   "name": "python",
   "nbconvert_exporter": "python",
   "pygments_lexer": "ipython3",
   "version": "3.7.9"
  }
 },
 "nbformat": 4,
 "nbformat_minor": 4
}
